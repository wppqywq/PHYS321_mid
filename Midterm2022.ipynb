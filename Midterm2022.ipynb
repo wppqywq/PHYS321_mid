{
 "cells": [
  {
   "cell_type": "markdown",
   "metadata": {},
   "source": [
    "# Midterm Exam Winter 2022"
   ]
  },
  {
   "cell_type": "markdown",
   "metadata": {},
   "source": [
    "This midterm exam is an open-book, open-resource exam. However, you may not collaborate with anyone. Please send clarification questions and hint requests to me at [adrian.liu2@mcgill.ca](mailto:adrian.liu2@mcgill.ca). Submission instructions are below. The exam is due at 11:59:59 Eastern on February 24th, 2022.\n",
    "\n",
    "You may copy and paste code from your previous assignments, but __you must cite your sources__. E.g., if you want to use a function that you wrote in Coding Lab 02, please include the comment \"this function was copied from Coding Lab 02\"\n",
    "\n",
    "**There will be a few points available in questions 4 and 6 for good coding habits. For example, if there is a bit of code that you intend to reuse, define a function rather than copying and pasting it multiple times!**"
   ]
  },
  {
   "cell_type": "markdown",
   "metadata": {},
   "source": [
    "## Question 1"
   ]
  },
  {
   "cell_type": "markdown",
   "metadata": {},
   "source": [
    "I have created a ``git`` repo here: https://github.com/acliu/PHYS321_Midterm2022.git. In this repo there is an old ``git`` commit with the commit message \"movie quote commit here\". In that commit is a file called ``movie_quote.txt`` (which no longer exists in the current commit), and inside the file is a quote from a movie:\n",
    "1. Retrieve this quote and write it down below.\n",
    "2. Write down the ``git`` commands you used to clone the repo and the commands you used to help you retrieve the quote.\n",
    "\n",
    "There are multiple ways to do this using ``git``. I am not picky about how you do this, as long as 1) you used the command line, and 2) it isn't \"I went to the Github website and looked there\"."
   ]
  },
  {
   "cell_type": "markdown",
   "metadata": {},
   "source": [
    "## Your answer here\n",
    "1. May the Force be with you \n",
    "\n",
    "2. \n",
    "``git clone https://github.com/acliu/PHYS321_Midterm2022.git``\n",
    "\n",
    "``git log``\n",
    "\n",
    "``git revert 23066d567dcbdf3d535186dc433da751476e139f``\n",
    "\n",
    "``more movie_quote.txt``\n",
    "\n",
    "\n",
    "\n"
   ]
  },
  {
   "cell_type": "markdown",
   "metadata": {},
   "source": [
    "## Question 2"
   ]
  },
  {
   "cell_type": "markdown",
   "metadata": {},
   "source": [
    "Create a **new** repo on the ``github`` website and clone it. Do an initial commit of this Jupyter notebook locally on your command line and commit with the message \"first commit of midterm\". Do this now (because I will be looking for a commit in your history prior to your final submission). Push to your repo. Write down all the commands that you used on the command line to do this."
   ]
  },
  {
   "cell_type": "code",
   "execution_count": null,
   "metadata": {},
   "outputs": [],
   "source": [
    "## Your answer here"
   ]
  },
  {
   "cell_type": "markdown",
   "metadata": {},
   "source": [
    "## Question 3"
   ]
  },
  {
   "cell_type": "markdown",
   "metadata": {},
   "source": [
    "Note that although the answers to 3(a) and 3(c) can be found by Googling, to get full credit you will need to show how you can get the answer using code. "
   ]
  },
  {
   "cell_type": "markdown",
   "metadata": {},
   "source": [
    "__a)__ A few years ago people thought that the star Betelgeuse could go supernova. Where is Betelgeuse (in RA and DEC)?"
   ]
  },
  {
   "cell_type": "code",
   "execution_count": 2,
   "metadata": {},
   "outputs": [],
   "source": [
    "## Your answer here"
   ]
  },
  {
   "cell_type": "markdown",
   "metadata": {},
   "source": [
    "__b)__ Is Betelgeuse viewable from all parts of the northern hemisphere? Is it viewable from all parts of the southern hemisphere?"
   ]
  },
  {
   "cell_type": "code",
   "execution_count": 3,
   "metadata": {},
   "outputs": [],
   "source": [
    "## Your answer here"
   ]
  },
  {
   "cell_type": "markdown",
   "metadata": {},
   "source": [
    "__c)__ Suppose Betelgeuse were to go supernova during March break. For roughly how many hours every night will it be in principle observable? (Assume that we have a telescope that can be see horizon-to-horizon, and neglect the fact that Sun can affect astronomical observations even when it is slightly below the horizon"
   ]
  },
  {
   "cell_type": "code",
   "execution_count": 4,
   "metadata": {},
   "outputs": [],
   "source": [
    "## Your answer here"
   ]
  },
  {
   "cell_type": "markdown",
   "metadata": {},
   "source": [
    "## Question 4"
   ]
  },
  {
   "cell_type": "markdown",
   "metadata": {},
   "source": [
    "Let's compare the Hubble Space Telescope (HST) to the recently launched (and soon operational!) James Webb Space Telescope (JWST)."
   ]
  },
  {
   "cell_type": "markdown",
   "metadata": {},
   "source": [
    "__a)__ First we'll compare the sensitivity of these telescopes. HST is said to have a \"limiting magnitude\" $+31.5$ while JWST's is $+34$. Which telescope can see fainter things? By what factor? (In reality this is not an entirely fair comparison because HST and JWST observe at different wavelengths and are good at different types of science)."
   ]
  },
  {
   "cell_type": "code",
   "execution_count": 5,
   "metadata": {},
   "outputs": [],
   "source": [
    "## Your answer here"
   ]
  },
  {
   "cell_type": "markdown",
   "metadata": {},
   "source": [
    "__b)__ Produce the following plots:\n",
    "* The minimum luminosity of an object (expressed in absolute magnitudes) that can be seen by HST and JWST as a function of redshift $z$\n",
    "* The same plots but with the luminosity expressed in units of the Solar luminosity $L_\\odot$\n",
    "* The previous two plots but as a function of distance rather than redshift.\n",
    "\n",
    "Have your plots span $0 < z < 10$, and make sure the plots are visually easy to read. (Marks will be deducted if, for example, the trends cannot be easily seen because of inappropriate axis ranges)."
   ]
  },
  {
   "cell_type": "code",
   "execution_count": 6,
   "metadata": {},
   "outputs": [],
   "source": [
    "## Your answer here"
   ]
  },
  {
   "cell_type": "markdown",
   "metadata": {},
   "source": [
    "__c)__ Suppose we lived in a (fake) universe that contained only three types of galaxies, each of which have an exact well-defined luminosity:\n",
    "* Type A galaxies that have luminosity $L = 10^{8}L_\\odot$. These galaxies have a number density of $10^{-2}$ per comoving Mpc$^{3}$.\n",
    "* Type B galaxies that have luminosity $L = 10^{10}L_\\odot$. These galaxies have a number density of $5 \\times 10^{-2}$ per comoving Mpc$^{3}$.\n",
    "* Type C galaxies that have luminosity $L = 10^{12}L_\\odot$. These galaxies have a number density of $10^{-3}$ per comoving Mpc$^{3}$.\n",
    "\n",
    "Now imagine (completely unrealistically) that we get to use HST and JWST to perform a galaxy survey over the entire sky. How many of each galaxy type should I expect to find?"
   ]
  },
  {
   "cell_type": "code",
   "execution_count": 7,
   "metadata": {},
   "outputs": [],
   "source": [
    "## Your answer here"
   ]
  },
  {
   "cell_type": "markdown",
   "metadata": {},
   "source": [
    "## Question 5"
   ]
  },
  {
   "cell_type": "markdown",
   "metadata": {},
   "source": [
    "Note that this question is designed to be a little bit more open-ended than the others. You will need to explain your answer **in addition** to performing some simple calculations."
   ]
  },
  {
   "cell_type": "markdown",
   "metadata": {},
   "source": [
    "I am interested in designing a spam filter that decides if an email is suspicious or not by looking for various key words. Would the word \"free\" be a good one to use? Support your answer with a calculation. Feel free to collect some data from your own inbox! If the word \"free\" is an effective one to use, what would be an example of an ineffective word? And why would it be ineffective? If you decide that \"free\" is ineffective, give an example of a better choice. In both cases, explain why. (Ideally with some numerical examples)."
   ]
  },
  {
   "cell_type": "code",
   "execution_count": 8,
   "metadata": {},
   "outputs": [],
   "source": [
    "## Your answer here"
   ]
  },
  {
   "cell_type": "markdown",
   "metadata": {},
   "source": [
    "## Question 6"
   ]
  },
  {
   "cell_type": "markdown",
   "metadata": {},
   "source": [
    "Tony and Stephen are selling cakes on rue Sherbrooke. Their boss, Carol, has noticed that the number of cakes they sell per hour is well-modelled by a Poisson distribution. That is, if $n$ is a random variable signifying the number of cakes sold in an hour, the probability distribution $p(n)$ is given by\n",
    "\n",
    "\\begin{equation}\n",
    "p(n) = \\frac{e^{-\\lambda} \\lambda^n}{n!}\n",
    "\\end{equation}"
   ]
  },
  {
   "cell_type": "markdown",
   "metadata": {},
   "source": [
    "Carol has noticed, however, that the mean number of cakes sold per hour is different for her two salespeople. In other words, $\\lambda_\\textrm{tony} \\neq \\lambda_\\textrm{stephen}$. Through years of observations, she has determined that $\\lambda_\\textrm{tony} = 5$ and $\\lambda_\\textrm{stephen} = 8$."
   ]
  },
  {
   "cell_type": "markdown",
   "metadata": {},
   "source": [
    "Today, Stephen worked for 6 hours and claimed that he sold $6$, $6$, $8$, $8$, $6$, $8$ cakes (each number represents the number of cakes sold in an hour). These numbers are kinda low for Stephen, so Carol confronts him and asks him if Tony had secretly substituted for him. Stephen objects. He says that there are always random fluctuations, and that he'll really need to see a rigorous statistical analysis."
   ]
  },
  {
   "cell_type": "markdown",
   "metadata": {},
   "source": [
    "Carol turns to you for help, asking you to use your Bayesian inference skills to help her out. Can you help her? Do you think Tony substituted for Stephen? How confident are you in your conclusion?"
   ]
  },
  {
   "cell_type": "code",
   "execution_count": 9,
   "metadata": {},
   "outputs": [],
   "source": [
    "## Your answer here"
   ]
  },
  {
   "cell_type": "markdown",
   "metadata": {},
   "source": [
    "## Ungraded question"
   ]
  },
  {
   "cell_type": "markdown",
   "metadata": {},
   "source": [
    "I would like to tailor the last third of the course to your interests, as well as to get your overall feedback on things. Please fill out [this](https://forms.gle/Sy4Lf6QVdYdUA23a6) anonymous survey to help me with that. This is not a graded part of your midterm, but now is just a convenient time to do it."
   ]
  },
  {
   "cell_type": "markdown",
   "metadata": {},
   "source": [
    "## Submission"
   ]
  },
  {
   "cell_type": "markdown",
   "metadata": {},
   "source": [
    "You're done! Do a final git commit, taking care to include everything relevant (e.g., if you created a new ``tools.py`` file, be sure to include it). If you decide to revise your answers before the deadline, no problem---just make the changes you want to make and resubmit your work. Push your work to your repo, and send me an invitation to the repo (my Github username is acliu)"
   ]
  },
  {
   "cell_type": "code",
   "execution_count": null,
   "metadata": {},
   "outputs": [],
   "source": []
  }
 ],
 "metadata": {
  "kernelspec": {
   "display_name": "Python 3",
   "language": "python",
   "name": "python3"
  },
  "language_info": {
   "codemirror_mode": {
    "name": "ipython",
    "version": 3
   },
   "file_extension": ".py",
   "mimetype": "text/x-python",
   "name": "python",
   "nbconvert_exporter": "python",
   "pygments_lexer": "ipython3",
   "version": "3.8.3"
  }
 },
 "nbformat": 4,
 "nbformat_minor": 4
}
